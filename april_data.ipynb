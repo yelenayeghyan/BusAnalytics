{
 "cells": [
  {
   "cell_type": "code",
   "execution_count": 1,
   "id": "16b46327",
   "metadata": {},
   "outputs": [],
   "source": [
    "import pandas as pd\n",
    "import matplotlib.pyplot as plt\n",
    "import numpy as np\n",
    "from statsmodels.formula.api import ols #for linear regression\n",
    "import seaborn as sns #for heatmap\n",
    "import statsmodels.api as sm\n",
    "from scipy import stats\n",
    "from sklearn.metrics import r2_score, mean_squared_error #R-squared\n",
    "from sklearn.model_selection import train_test_split #for train and test split\n",
    "from statsmodels.api import qqplot \n",
    "from scipy.stats import shapiro, ttest_ind\n",
    "from statsmodels.stats.diagnostic import het_breuschpagan,linear_rainbow  \n",
    "from sklearn import linear_model"
   ]
  },
  {
   "cell_type": "code",
   "execution_count": 2,
   "id": "7f04654a",
   "metadata": {},
   "outputs": [],
   "source": [
    "data = pd.read_excel(\"ապրիլ_2021_պատվերներ.xls\")"
   ]
  },
  {
   "cell_type": "code",
   "execution_count": 3,
   "id": "84369192",
   "metadata": {},
   "outputs": [],
   "source": [
    "data['Համայնք'] = data['Համայնք'].replace(['Աջափնյակ համայնք','Աջափնյակ_1' ], ' Աջափնյակ_1')\n",
    "data['Համայնք'] = data['Համայնք'].replace(['Մալաթիա-Սեբաստիա','Կիլիկիա համայնք'], 'Մալաթիա-Սեբաստիա' )\n",
    "data['Համայնք'] = data['Համայնք'].replace(['Օդանավակայան'], 'Օդանավակայան')\n",
    "data['Համայնք'] = data['Համայնք'].replace(['Շենգավիթ համայնք','Շենգավիթ 2','Շրջան_Շենգավիթ'],'Շենգավիթ')\n",
    "data['Համայնք'] = data['Համայնք'].replace(['Ավան-Առինջ համայնք','Քանաքեռ-Զեյթուն'],'Քանաքեռ—Ավան')\n",
    "data['Համայնք'] = data['Համայնք'].replace(['Դավթաշեն'],'Դավթաշեն' )\n",
    "data['Համայնք'] = data['Համայնք'].replace(['Էրեբունի համայնք'],'Էրեբունի համայնք')\n",
    "data['Համայնք'] = data['Համայնք'].replace(['Նոր Նորք համայնք','Շրջան Նոր Նորք','Նորք Մարաշ համայնք'],'Նոր Նորք' )\n",
    "data['Համայնք'] = data['Համայնք'].replace(['Կենտրոն 1','Կենտրոն 1_1','Կենտրոն 1_2','Կենտրոն 1_4'],'Կենտրոն 1')\n",
    "data['Համայնք'] = data['Համայնք'].replace(['Կենտրոն 3','Կենտրոն 3_2','Կենտրոն 3_4','Կենտրոն 3_5'],'Կենտրոն 3' )\n",
    "data['Համայնք'] = data['Համայնք'].replace(['Կենտրոն 2','Կենտրոն 2_1','Կենտրոն 2_5'],'Կենտորն 2')\n",
    "data['Համայնք'] = data['Համայնք'].replace(['Կենտրոն 4','Կենտրոն 4_1','Կենտրոն 4_5'],'Կենտրոն 4' )\n",
    "data['Համայնք'] = data['Համայնք'].replace(['Կենտրոն 5_2','Կենտրոն 5_4','Կենտրոն_Էրեբունի','Կենտրոն 5'],'Կենտրոն 5')\n",
    "data['Համայնք'] = data['Համայնք'].replace(['Արաբկիր_1'],'Արաբկիր 1')\n",
    "data['Համայնք'] = data['Համայնք'].replace(['Արաբկիր_2','Արաբկիր 2_16'],'Արաբկիր_2')\n",
    "data['Համայնք'] = data['Համայնք'].replace(['Արագածոտնի մարզ','Արագածոտն 1'],'Արագածոտնի մարզ' )\n",
    "data['Համայնք'] = data['Համայնք'].replace(['Արարատի մարզ','Շրջան Մասիս'],'Արարատի մարզ',)\n",
    "data['Համայնք'] = data['Համայնք'].replace(['Արմավիրի մարզ','Էջմիածին համայնք','Շրջան_Արմավիր','Արմավիր_1'],'Արմավիրի մարզ' )\n",
    "data['Համայնք'] = data['Համայնք'].replace(['Վայոց Ձորի մարզ'],'Վայոց Ձորի մարզ')\n",
    "data['Համայնք'] = data['Համայնք'].replace(['Տավուշի մարզ'],'Տավուշի մարզ' )\n",
    "data['Համայնք'] = data['Համայնք'].replace(['Կոտայքի մարզ'],'Կոտայքի մարզ')\n",
    "data['Համայնք'] = data['Համայնք'].replace(['Շիրակի մարզ'],'Շիրակի մարզ')\n",
    "data['Համայնք'] = data['Համայնք'].replace(['Սյունիքի մարզ'],'Սյունիքի մարզ')\n",
    "data['Համայնք'] = data['Համայնք'].replace(['Գեղարքունիքի մարզ'],'Գեղարքունիքի մարզ')\n",
    "data['Համայնք'] = data['Համայնք'].replace(['Լոռու մարզ','Վանաձոր'],'Լոռի')\n",
    "data['Համայնք'] = data['Համայնք'].replace(['ԼՂՀ','Փոքր շշեր_ՄՋ','Փոքր ջրեր_0.3լ-5լ','Համայնք_ՄՋ'],'այլ')"
   ]
  },
  {
   "cell_type": "code",
   "execution_count": 4,
   "id": "6cac3da0",
   "metadata": {},
   "outputs": [
    {
     "name": "stdout",
     "output_type": "stream",
     "text": [
      "Duplicates: 6212\n"
     ]
    }
   ],
   "source": [
    "print(\"Duplicates:\", data.duplicated(['Հաճախորդի CRM ID']).sum()) "
   ]
  },
  {
   "cell_type": "code",
   "execution_count": 5,
   "id": "f3a17d18",
   "metadata": {},
   "outputs": [],
   "source": [
    "data_drop=data.drop_duplicates(['Հաճախորդի CRM ID'])"
   ]
  },
  {
   "cell_type": "code",
   "execution_count": 6,
   "id": "1d22aa0e",
   "metadata": {},
   "outputs": [
    {
     "data": {
      "text/plain": [
       "(7038, 20)"
      ]
     },
     "execution_count": 6,
     "metadata": {},
     "output_type": "execute_result"
    }
   ],
   "source": [
    " data_drop.shape"
   ]
  },
  {
   "cell_type": "code",
   "execution_count": 7,
   "id": "e273a1eb",
   "metadata": {},
   "outputs": [
    {
     "data": {
      "text/plain": [
       "Index(['Հաճախորդի CRM ID', 'Կազմ. անվ.', 'Համայնք'], dtype='object')"
      ]
     },
     "execution_count": 7,
     "metadata": {},
     "output_type": "execute_result"
    }
   ],
   "source": [
    "data_clean=data_drop.drop(['Ապրանք', 'Promo', 'Ապրանք.1', 'Promo.1', 'Քանակ.1', 'Ապրանք.2', 'Promo.2','Ապրանք.3', 'Promo.3', 'Քանակ.3', 'Քանակ', 'Քանակ.2','Ապրանք.4', 'Promo.4', 'Քանակ.4','Ընդհ․ գումար', 'Առաքման ամսաթիվ'],axis=1)\n",
    "data_clean.columns"
   ]
  },
  {
   "cell_type": "code",
   "execution_count": 8,
   "id": "52baff97",
   "metadata": {},
   "outputs": [
    {
     "data": {
      "text/html": [
       "<div>\n",
       "<style scoped>\n",
       "    .dataframe tbody tr th:only-of-type {\n",
       "        vertical-align: middle;\n",
       "    }\n",
       "\n",
       "    .dataframe tbody tr th {\n",
       "        vertical-align: top;\n",
       "    }\n",
       "\n",
       "    .dataframe thead th {\n",
       "        text-align: right;\n",
       "    }\n",
       "</style>\n",
       "<table border=\"1\" class=\"dataframe\">\n",
       "  <thead>\n",
       "    <tr style=\"text-align: right;\">\n",
       "      <th></th>\n",
       "      <th>Հաճախորդի CRM ID</th>\n",
       "      <th>Կազմ. անվ.</th>\n",
       "      <th>Համայնք</th>\n",
       "    </tr>\n",
       "  </thead>\n",
       "  <tbody>\n",
       "    <tr>\n",
       "      <th>8</th>\n",
       "      <td>8150</td>\n",
       "      <td>\"Ինեկոբանկ\" ՓԲԸ/Գլխամաս</td>\n",
       "      <td>Կենտրոն 3</td>\n",
       "    </tr>\n",
       "    <tr>\n",
       "      <th>10</th>\n",
       "      <td>17227</td>\n",
       "      <td>ՀԱԷԿ-ի Շինարարություն ՓԲԸ</td>\n",
       "      <td>Շենգավիթ</td>\n",
       "    </tr>\n",
       "    <tr>\n",
       "      <th>11</th>\n",
       "      <td>28090</td>\n",
       "      <td>\"Ֆլաթ-Քլաբ\" ՓԲԸ</td>\n",
       "      <td>Կենտրոն 4</td>\n",
       "    </tr>\n",
       "    <tr>\n",
       "      <th>12</th>\n",
       "      <td>33259</td>\n",
       "      <td>\"Դեֆա\" ՍՊԸ/Գոռ</td>\n",
       "      <td>այլ</td>\n",
       "    </tr>\n",
       "    <tr>\n",
       "      <th>13</th>\n",
       "      <td>33518</td>\n",
       "      <td>\"Սեղանատուն\" ՍՊԸ/ Դիլիջանի տուն հյուրանոց</td>\n",
       "      <td>Տավուշի մարզ</td>\n",
       "    </tr>\n",
       "    <tr>\n",
       "      <th>...</th>\n",
       "      <td>...</td>\n",
       "      <td>...</td>\n",
       "      <td>...</td>\n",
       "    </tr>\n",
       "    <tr>\n",
       "      <th>13217</th>\n",
       "      <td>15486</td>\n",
       "      <td>\"Հանքաշար\" ՍՊԸ</td>\n",
       "      <td>Կենտորն 2</td>\n",
       "    </tr>\n",
       "    <tr>\n",
       "      <th>13224</th>\n",
       "      <td>30345</td>\n",
       "      <td>\"ՕՀԱՆ ԸՆԴ ԿՈ\" ՍՊԸ</td>\n",
       "      <td>Արաբկիր_2</td>\n",
       "    </tr>\n",
       "    <tr>\n",
       "      <th>13241</th>\n",
       "      <td>17214</td>\n",
       "      <td>ՄԱԿ Զարգացման Ծրագիր UNDP/402 ս.</td>\n",
       "      <td>Կենտրոն 4</td>\n",
       "    </tr>\n",
       "    <tr>\n",
       "      <th>13243</th>\n",
       "      <td>28202</td>\n",
       "      <td>\"Թրավլ Քլաբ\" ՍՊԸ</td>\n",
       "      <td>Կենտորն 2</td>\n",
       "    </tr>\n",
       "    <tr>\n",
       "      <th>13246</th>\n",
       "      <td>31385</td>\n",
       "      <td>\"ԱԳ սերվիս կենտրոն\" ՍՊԸ/Հարոյան Լև Ռուբենի</td>\n",
       "      <td>Արաբկիր_2</td>\n",
       "    </tr>\n",
       "  </tbody>\n",
       "</table>\n",
       "<p>3203 rows × 3 columns</p>\n",
       "</div>"
      ],
      "text/plain": [
       "       Հաճախորդի CRM ID                                  Կազմ. անվ.  \\\n",
       "8                  8150                     \"Ինեկոբանկ\" ՓԲԸ/Գլխամաս   \n",
       "10                17227                   ՀԱԷԿ-ի Շինարարություն ՓԲԸ   \n",
       "11                28090                             \"Ֆլաթ-Քլաբ\" ՓԲԸ   \n",
       "12                33259                              \"Դեֆա\" ՍՊԸ/Գոռ   \n",
       "13                33518   \"Սեղանատուն\" ՍՊԸ/ Դիլիջանի տուն հյուրանոց   \n",
       "...                 ...                                         ...   \n",
       "13217             15486                              \"Հանքաշար\" ՍՊԸ   \n",
       "13224             30345                           \"ՕՀԱՆ ԸՆԴ ԿՈ\" ՍՊԸ   \n",
       "13241             17214            ՄԱԿ Զարգացման Ծրագիր UNDP/402 ս.   \n",
       "13243             28202                            \"Թրավլ Քլաբ\" ՍՊԸ   \n",
       "13246             31385  \"ԱԳ սերվիս կենտրոն\" ՍՊԸ/Հարոյան Լև Ռուբենի   \n",
       "\n",
       "            Համայնք  \n",
       "8         Կենտրոն 3  \n",
       "10         Շենգավիթ  \n",
       "11        Կենտրոն 4  \n",
       "12              այլ  \n",
       "13     Տավուշի մարզ  \n",
       "...             ...  \n",
       "13217     Կենտորն 2  \n",
       "13224     Արաբկիր_2  \n",
       "13241     Կենտրոն 4  \n",
       "13243     Կենտորն 2  \n",
       "13246     Արաբկիր_2  \n",
       "\n",
       "[3203 rows x 3 columns]"
      ]
     },
     "execution_count": 8,
     "metadata": {},
     "output_type": "execute_result"
    }
   ],
   "source": [
    "data_clean1=datadrop=data_clean.dropna()\n",
    "datadrop"
   ]
  },
  {
   "cell_type": "code",
   "execution_count": 9,
   "id": "065b6a76",
   "metadata": {},
   "outputs": [
    {
     "name": "stdout",
     "output_type": "stream",
     "text": [
      "       Հաճախորդի CRM ID                                  Կազմ. անվ.  \\\n",
      "8                  8150                     \"Ինեկոբանկ\" ՓԲԸ/Գլխամաս   \n",
      "10                17227                   ՀԱԷԿ-ի Շինարարություն ՓԲԸ   \n",
      "11                28090                             \"Ֆլաթ-Քլաբ\" ՓԲԸ   \n",
      "12                33259                              \"Դեֆա\" ՍՊԸ/Գոռ   \n",
      "13                33518   \"Սեղանատուն\" ՍՊԸ/ Դիլիջանի տուն հյուրանոց   \n",
      "...                 ...                                         ...   \n",
      "13217             15486                              \"Հանքաշար\" ՍՊԸ   \n",
      "13224             30345                           \"ՕՀԱՆ ԸՆԴ ԿՈ\" ՍՊԸ   \n",
      "13241             17214            ՄԱԿ Զարգացման Ծրագիր UNDP/402 ս.   \n",
      "13243             28202                            \"Թրավլ Քլաբ\" ՍՊԸ   \n",
      "13246             31385  \"ԱԳ սերվիս կենտրոն\" ՍՊԸ/Հարոյան Լև Ռուբենի   \n",
      "\n",
      "            Համայնք  \n",
      "8         Կենտրոն 3  \n",
      "10         Շենգավիթ  \n",
      "11        Կենտրոն 4  \n",
      "12              այլ  \n",
      "13     Տավուշի մարզ  \n",
      "...             ...  \n",
      "13217     Կենտորն 2  \n",
      "13224     Արաբկիր_2  \n",
      "13241     Կենտրոն 4  \n",
      "13243     Կենտորն 2  \n",
      "13246     Արաբկիր_2  \n",
      "\n",
      "[3203 rows x 3 columns]\n"
     ]
    }
   ],
   "source": [
    "print(data_clean1)"
   ]
  },
  {
   "cell_type": "code",
   "execution_count": 35,
   "id": "c0846722",
   "metadata": {},
   "outputs": [
    {
     "data": {
      "text/plain": [
       "Շենգավիթ             348\n",
       "Կենտրոն 1            267\n",
       "Արաբկիր 1            261\n",
       "Արաբկիր_2            257\n",
       "Կենտրոն 5            243\n",
       "Կենտորն 2            237\n",
       "Կենտրոն 4            226\n",
       "Մալաթիա-Սեբաստիա     217\n",
       "Կենտրոն 3            165\n",
       "Քանաքեռ—Ավան         160\n",
       "Էրեբունի համայնք     119\n",
       "Նոր Նորք             107\n",
       " Աջափնյակ_1           99\n",
       "Կոտայքի մարզ          69\n",
       "Արմավիրի մարզ         66\n",
       "Արարատի մարզ          56\n",
       "Օդանավակայան          52\n",
       "Լոռի                  48\n",
       "Դավթաշեն              42\n",
       "Շիրակի մարզ           33\n",
       "Արագածոտնի մարզ       33\n",
       "Տավուշի մարզ          27\n",
       "Սյունիքի մարզ         25\n",
       "Գեղարքունիքի մարզ     15\n",
       "Արագածոտն_1           14\n",
       "այլ                   11\n",
       "Վայոց Ձորի մարզ        6\n",
       "Name: Համայնք, dtype: int64"
      ]
     },
     "execution_count": 35,
     "metadata": {},
     "output_type": "execute_result"
    }
   ],
   "source": [
    "data_clean1['Համայնք'].value_counts()\n"
   ]
  },
  {
   "cell_type": "code",
   "execution_count": 36,
   "id": "f077ee05",
   "metadata": {},
   "outputs": [
    {
     "data": {
      "text/plain": [
       "Արաբկիր 1            731\n",
       "Շենգավիթ             688\n",
       "Կենտրոն 1            678\n",
       "Արաբկիր_2            657\n",
       "Մալաթիա-Սեբաստիա     513\n",
       "Կենտրոն 5            511\n",
       "Կենտորն 2            497\n",
       "Կենտրոն 3            401\n",
       "Կենտրոն 4            382\n",
       "Քանաքեռ—Ավան         319\n",
       "Նոր Նորք             284\n",
       "Էրեբունի համայնք     279\n",
       " Աջափնյակ_1          260\n",
       "Արմավիրի մարզ        182\n",
       "Դավթաշեն             141\n",
       "Կոտայքի մարզ         111\n",
       "Արարատի մարզ          79\n",
       "Օդանավակայան          59\n",
       "Լոռի                  57\n",
       "Արագածոտնի մարզ       54\n",
       "Տավուշի մարզ          46\n",
       "Շիրակի մարզ           35\n",
       "Սյունիքի մարզ         25\n",
       "Գեղարքունիքի մարզ     17\n",
       "Արագածոտն_1           14\n",
       "այլ                   12\n",
       "Վայոց Ձորի մարզ        6\n",
       "Name: Համայնք, dtype: int64"
      ]
     },
     "execution_count": 36,
     "metadata": {},
     "output_type": "execute_result"
    }
   ],
   "source": [
    " data_drop['Համայնք'].value_counts()"
   ]
  },
  {
   "cell_type": "code",
   "execution_count": null,
   "id": "ad664b4e",
   "metadata": {},
   "outputs": [],
   "source": []
  }
 ],
 "metadata": {
  "kernelspec": {
   "display_name": "Python 3",
   "language": "python",
   "name": "python3"
  },
  "language_info": {
   "codemirror_mode": {
    "name": "ipython",
    "version": 3
   },
   "file_extension": ".py",
   "mimetype": "text/x-python",
   "name": "python",
   "nbconvert_exporter": "python",
   "pygments_lexer": "ipython3",
   "version": "3.8.8"
  }
 },
 "nbformat": 4,
 "nbformat_minor": 5
}
